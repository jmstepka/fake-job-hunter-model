{
 "cells": [
  {
   "cell_type": "code",
   "execution_count": 1,
   "metadata": {},
   "outputs": [],
   "source": [
    "import datasets"
   ]
  },
  {
   "cell_type": "code",
   "execution_count": 2,
   "metadata": {},
   "outputs": [
    {
     "name": "stderr",
     "output_type": "stream",
     "text": [
      "Found cached dataset csv (/home/kubass/.cache/huggingface/datasets/csv/default-90bc69f99aee64be/0.0.0/6954658bab30a358235fa864b05cf819af0e179325c740e4bc853bcc7ec513e1)\n"
     ]
    },
    {
     "data": {
      "application/vnd.jupyter.widget-view+json": {
       "model_id": "5547e329b8724780845adf073bc5bb18",
       "version_major": 2,
       "version_minor": 0
      },
      "text/plain": [
       "  0%|          | 0/1 [00:00<?, ?it/s]"
      ]
     },
     "metadata": {},
     "output_type": "display_data"
    }
   ],
   "source": [
    "dataset = datasets.load_dataset(\"csv\", data_files={\"train\": \"data/examples.csv\"})"
   ]
  },
  {
   "cell_type": "code",
   "execution_count": 3,
   "metadata": {},
   "outputs": [
    {
     "data": {
      "text/plain": [
       "{'description': 'Poszukujemy osoby do obsługi klienta, która będzie odpowiadać na wiadomości. Praca może być wykonywana zdalnie lub w Warszawie.\\r\\nJesteśmy dynamicznie rozwijającym się zespołem i poszukujemy osób chętnych do krótko- lub długoterminowej współpracy.\\r\\nMimo obecnych trudności ekonomicznych, zapewniamy naszym pracownikom godne warunki i wysoki standard życia. Nasz zespół jest stabilny nawet w obliczu inflacji, drożyzny i wysokich podatków.\\r\\nDołącz do nas i zostań częścią tego zespołu!\\r\\nOferta pracy może być traktowana jako dodatkowe źródło dochodu obok studiów lub pełnego etatu. Oferujemy atrakcyjne zarobki, które mogą stać się stabilnym i jedynym źródłem dochodu.\\r\\nWspółpracujemy z polską firmą, która działa na rynku od ponad 21 lat.\\r\\nCzym będzie polegać Twoja praca?\\r\\nBędziesz odpowiadać na wiadomości ludzi, korzystając z gotowych skryptów i formułek. Wykonywać będziesz także proste zadania związane z promocją i reklamą produktów. Będziesz rekomendować nasze produkty za pomocą systemu online, nie wychodząc z domu. Wystarczy smartfon lub komputer.\\r\\nUwaga!\\r\\nNie będziesz musiał/a uczestniczyć w wideokonferencjach. Nie będziesz dzwonić do klientów. Nie będziesz odwiedzać domów klientów. Nie będziesz musiał/a inwestować swoich pieniędzy. Nie wymagamy doświadczenia, nauczymy Cię wszystkiego od podstaw. Nie jesteśmy firmą działającą w marketingu wielopoziomowym (MLM).\\r\\nCo możemy Ci zaoferować?\\r\\nRegularne wypłaty co tydzień, bezpośrednio na Twoje konto bankowe, cztery razy w miesiącu. Pracę w pełni zdalną, możesz pracować z domu lub z dowolnego miejsca na ziemi. Elastyczne godziny pracy - Ty decydujesz, kiedy i ile czasu poświęcasz na pracę. Pełne wsparcie zespołu dostępne 24/7 - zawsze możesz liczyć na pomoc na każdym kroku. Nie wymagamy żadnych inwestycji finansowych w naszej branży. Oferujemy pełne szkolenie online, krok po kroku, zapewnimy Ci wsparcie na każdym etapie.\\r\\nWymagania:\\r\\nMusisz mieć ukończone 18 lat. Posiadać polskie obywatelstwo. Potrzebujesz komputera lub smartfona z dostępem do internetu. Podstawowa obsługa komputera i smartfona. Umiejętność korzystania z mediów społecznościowych, takich jak Facebook, Messenger i E-mail. Ważne jest, aby\\r\\nbyć nastawionym na rozwój i aktywnie uczestniczyć w szkoleniach wprowadzających.\\r\\nOferujemy bardzo atrakcyjne zarobki!\\r\\nNa początku możesz zarabiać około 3700 PLN miesięcznie, pracując tylko 2-3 godziny dziennie. Twoje zarobki będą jednak wzrastać z każdym miesiącem wraz ze zdobytym doświadczeniem, stażem i poświęconym czasem.\\r\\nZapraszam Cię do skontaktowania się z nami poprzez kliknięcie przycisku \"aplikuj/aplikuj teraz\". Odpowiemy tylko wybranym kandydatom, zastrzegając sobie to prawo. Jeśli ogłoszenie jest widoczne, oznacza to, że jest aktualne.\\r\\n\\r\\n',\n",
       " 'label': 1}"
      ]
     },
     "execution_count": 3,
     "metadata": {},
     "output_type": "execute_result"
    }
   ],
   "source": [
    "dataset[\"train\"][0]"
   ]
  },
  {
   "cell_type": "code",
   "execution_count": 5,
   "metadata": {},
   "outputs": [],
   "source": [
    "from transformers import AutoTokenizer"
   ]
  },
  {
   "cell_type": "code",
   "execution_count": 6,
   "metadata": {},
   "outputs": [],
   "source": [
    "tokenizer = AutoTokenizer.from_pretrained(\"allegro/herbert-base-cased\")"
   ]
  },
  {
   "cell_type": "code",
   "execution_count": null,
   "metadata": {},
   "outputs": [],
   "source": []
  }
 ],
 "metadata": {
  "kernelspec": {
   "display_name": "Python 3 (ipykernel)",
   "language": "python",
   "name": "python3"
  },
  "language_info": {
   "codemirror_mode": {
    "name": "ipython",
    "version": 3
   },
   "file_extension": ".py",
   "mimetype": "text/x-python",
   "name": "python",
   "nbconvert_exporter": "python",
   "pygments_lexer": "ipython3",
   "version": "3.9.13"
  }
 },
 "nbformat": 4,
 "nbformat_minor": 2
}
