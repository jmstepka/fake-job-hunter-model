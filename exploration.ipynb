{
 "cells": [
  {
   "cell_type": "code",
   "execution_count": 6,
   "metadata": {},
   "outputs": [],
   "source": [
    "import pandas as pd"
   ]
  },
  {
   "cell_type": "code",
   "execution_count": 7,
   "metadata": {},
   "outputs": [],
   "source": [
    "def txt_to_csv(catalogue, filenames, classes, output_name):\n",
    "    df = pd.DataFrame(columns=['description', 'label'])\n",
    "    for filename, clas in zip(filenames, classes):\n",
    "        with open(f'{catalogue}/{filename}') as f:\n",
    "            notices = f.read().split('********')\n",
    "            print(len(notices))\n",
    "            df = pd.concat([df, pd.DataFrame(data={'description': notices, 'label': [clas]*len(notices)})])\n",
    "    df.to_csv(output_name, index=False)"
   ]
  },
  {
   "cell_type": "code",
   "execution_count": 8,
   "metadata": {},
   "outputs": [
    {
     "name": "stdout",
     "output_type": "stream",
     "text": [
      "50\n",
      "72\n"
     ]
    }
   ],
   "source": [
    "data = txt_to_csv('data', ['negative_examples.txt', 'positive_examples.txt'], [1, 0], 'data/examples.csv', sep=';;')"
   ]
  },
  {
   "cell_type": "code",
   "execution_count": 38,
   "metadata": {},
   "outputs": [],
   "source": [
    "data"
   ]
  },
  {
   "cell_type": "code",
   "execution_count": 33,
   "metadata": {},
   "outputs": [
    {
     "data": {
      "text/plain": [
       "'\\n\\nPoszukujemy Specjalisty ds. Obsługi Klienta, który będzie odpowiedzialny za udzielanie odpowiedzi na wiadomości. Możliwość pracy zdalnej lub stacjonarnej w Warszawie.\\nW związku z dynamicznym rozwojem naszego zespołu, poszukujemy osób zainteresowanych krótko- lub długoterminową współpracą.\\nMimo trudnego obecnie klimatu gospodarczego, zapewniamy naszym pracownikom godziwe warunki i wysoki standard życia. Jako zespół, stawiamy na stabilność nawet w czasach inflacji, wzrostu cen i obciążeń podatkowych.\\nDołącz do nas i stań się cennym członkiem naszego zespołu!\\nPraca może być traktowana jako dodatek do studiów lub etatu, jednak atrakcyjne zarobki, które oferujemy, sprawiają, że może ona stanowić stabilne i jedyne źródło dochodu.\\nWspółpracujemy z polską firmą, która odnosi sukcesy na rynku od ponad 21 lat.\\nCzym będzie polegać Twoja rola?\\nBędziesz odpowiedzialny za udzielanie odpowiedzi na wiadomości od klientów, korzystając z gotowych skryptów i formułek. Dodatkowo będziesz zajmować się prostymi zadaniami związanymi z reklamą i promocją naszych produktów. Możesz polecać nasze produkty za pomocą specjalnego systemu online, bez konieczności opuszczania swojego domu. Wystarczy mieć smartfon lub komputer.\\nWażne informacje!\\nNie będziesz musiał/a uczestniczyć w wideokonferencjach. Nie będziesz wykonywać połączeń telefonicznych do klientów. Nie będziesz odwiedzać klientów w ich domach. Nie będziesz musiał/a inwestować swoich pieniędzy. Nie wymagamy doświadczenia, ponieważ zapewnimy Ci kompleksowe szkolenie. Nie prowadzimy działalności w zakresie marketingu wielopoziomowego (MLM).\\nCo możemy Ci zaoferować?\\nRegularne wypłaty co tydzień, które trafiają bezpośrednio na Twoje konto bankowe cztery razy w miesiącu. Możliwość pracy zdalnej, dającą Ci elastyczność i swobodę wyboru miejsca pracy - możesz pracować z domu lub z dowolnej lokalizacji na świecie. Elastyczne godziny pracy - Ty decydujesz, kiedy i ile czasu poświęcasz na pracę. Pełne wsparcie zespołu, dostępne 24/7 - zawsze będziesz mieć pomoc na każdym etapie. Nie wymagamy żadnych inwestycji finansowych w naszej branży. Oferujemy pełne szkolenie online, krok po kroku, które umożliwi Ci rozwój i osiągnięcie sukcesu.\\nWymania:\\nWymagania, które musisz spełnić, to:\\n•\\tUkończone 18 lat.\\n•\\tObywatelstwo polskie.\\n•\\tPosiadanie komputera lub smartfona z dostępem do internetu.\\n•\\tPodstawowa obsługa komputera i smartfona.\\n•\\tUmiejętność korzystania z mediów społecznościowych, takich jak Facebook, Messenger i E-mail.\\n•\\tPozytywne nastawienie do rozwoju i chęć aktywnego uczestnictwa w szkoleniach wprowadzających.\\nNasza oferta obejmuje również bardzo atrakcyjne zarobki!\\nNa początku możesz otrzymywać około 3700 PLN miesięcznie, pracując tylko 2-3 godziny dziennie. Jednak Twoje zarobki będą systematycznie rosnąć wraz z upływem czasu, zdobytym doświadczeniem oraz poświęconym czasem.\\nZachęcamy Cię do skontaktowania się z nami poprzez kliknięcie przycisku \"aplikuj/aplikuj teraz\". Pamiętaj, że odpowiemy jedynie wybranym kandydatom, zastrzegając sobie to prawo. Jeśli ogłoszenie jest widoczne, oznacza to, że jest aktualne i wciąż poszukujemy odpowiednich osób do naszego zespołu.\\n\\n'"
      ]
     },
     "execution_count": 33,
     "metadata": {},
     "output_type": "execute_result"
    }
   ],
   "source": [
    "data[\"description\"][1]"
   ]
  },
  {
   "cell_type": "code",
   "execution_count": null,
   "metadata": {},
   "outputs": [],
   "source": []
  }
 ],
 "metadata": {
  "kernelspec": {
   "display_name": "fake_job_hunter",
   "language": "python",
   "name": "python3"
  },
  "language_info": {
   "codemirror_mode": {
    "name": "ipython",
    "version": 3
   },
   "file_extension": ".py",
   "mimetype": "text/x-python",
   "name": "python",
   "nbconvert_exporter": "python",
   "pygments_lexer": "ipython3",
   "version": "3.9.13"
  },
  "orig_nbformat": 4
 },
 "nbformat": 4,
 "nbformat_minor": 2
}
